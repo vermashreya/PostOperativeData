{
  "nbformat": 4,
  "nbformat_minor": 0,
  "metadata": {
    "colab": {
      "name": "HW_PostoperativeData",
      "provenance": [],
      "collapsed_sections": []
    },
    "kernelspec": {
      "name": "python3",
      "display_name": "Python 3"
    }
  },
  "cells": [
    {
      "cell_type": "markdown",
      "metadata": {
        "id": "9MKt897RZjfq",
        "colab_type": "text"
      },
      "source": [
        "# Importing the Libraries"
      ]
    },
    {
      "cell_type": "code",
      "metadata": {
        "id": "VIdNQgMP8Q62",
        "colab_type": "code",
        "colab": {}
      },
      "source": [
        "#importing the libraries\n",
        "import pandas as pd\n",
        "import numpy as np\n",
        "%matplotlib inline\n",
        "import matplotlib.pyplot as plt\n",
        "import seaborn as sns"
      ],
      "execution_count": null,
      "outputs": []
    },
    {
      "cell_type": "markdown",
      "metadata": {
        "id": "74E3A2cnYoU0",
        "colab_type": "text"
      },
      "source": [
        "# **Loading the dataset** "
      ]
    },
    {
      "cell_type": "code",
      "metadata": {
        "id": "b82_6lP48oxs",
        "colab_type": "code",
        "colab": {
          "resources": {
            "http://localhost:8080/nbextensions/google.colab/files.js": {
              "data": "Ly8gQ29weXJpZ2h0IDIwMTcgR29vZ2xlIExMQwovLwovLyBMaWNlbnNlZCB1bmRlciB0aGUgQXBhY2hlIExpY2Vuc2UsIFZlcnNpb24gMi4wICh0aGUgIkxpY2Vuc2UiKTsKLy8geW91IG1heSBub3QgdXNlIHRoaXMgZmlsZSBleGNlcHQgaW4gY29tcGxpYW5jZSB3aXRoIHRoZSBMaWNlbnNlLgovLyBZb3UgbWF5IG9idGFpbiBhIGNvcHkgb2YgdGhlIExpY2Vuc2UgYXQKLy8KLy8gICAgICBodHRwOi8vd3d3LmFwYWNoZS5vcmcvbGljZW5zZXMvTElDRU5TRS0yLjAKLy8KLy8gVW5sZXNzIHJlcXVpcmVkIGJ5IGFwcGxpY2FibGUgbGF3IG9yIGFncmVlZCB0byBpbiB3cml0aW5nLCBzb2Z0d2FyZQovLyBkaXN0cmlidXRlZCB1bmRlciB0aGUgTGljZW5zZSBpcyBkaXN0cmlidXRlZCBvbiBhbiAiQVMgSVMiIEJBU0lTLAovLyBXSVRIT1VUIFdBUlJBTlRJRVMgT1IgQ09ORElUSU9OUyBPRiBBTlkgS0lORCwgZWl0aGVyIGV4cHJlc3Mgb3IgaW1wbGllZC4KLy8gU2VlIHRoZSBMaWNlbnNlIGZvciB0aGUgc3BlY2lmaWMgbGFuZ3VhZ2UgZ292ZXJuaW5nIHBlcm1pc3Npb25zIGFuZAovLyBsaW1pdGF0aW9ucyB1bmRlciB0aGUgTGljZW5zZS4KCi8qKgogKiBAZmlsZW92ZXJ2aWV3IEhlbHBlcnMgZm9yIGdvb2dsZS5jb2xhYiBQeXRob24gbW9kdWxlLgogKi8KKGZ1bmN0aW9uKHNjb3BlKSB7CmZ1bmN0aW9uIHNwYW4odGV4dCwgc3R5bGVBdHRyaWJ1dGVzID0ge30pIHsKICBjb25zdCBlbGVtZW50ID0gZG9jdW1lbnQuY3JlYXRlRWxlbWVudCgnc3BhbicpOwogIGVsZW1lbnQudGV4dENvbnRlbnQgPSB0ZXh0OwogIGZvciAoY29uc3Qga2V5IG9mIE9iamVjdC5rZXlzKHN0eWxlQXR0cmlidXRlcykpIHsKICAgIGVsZW1lbnQuc3R5bGVba2V5XSA9IHN0eWxlQXR0cmlidXRlc1trZXldOwogIH0KICByZXR1cm4gZWxlbWVudDsKfQoKLy8gTWF4IG51bWJlciBvZiBieXRlcyB3aGljaCB3aWxsIGJlIHVwbG9hZGVkIGF0IGEgdGltZS4KY29uc3QgTUFYX1BBWUxPQURfU0laRSA9IDEwMCAqIDEwMjQ7Ci8vIE1heCBhbW91bnQgb2YgdGltZSB0byBibG9jayB3YWl0aW5nIGZvciB0aGUgdXNlci4KY29uc3QgRklMRV9DSEFOR0VfVElNRU9VVF9NUyA9IDMwICogMTAwMDsKCmZ1bmN0aW9uIF91cGxvYWRGaWxlcyhpbnB1dElkLCBvdXRwdXRJZCkgewogIGNvbnN0IHN0ZXBzID0gdXBsb2FkRmlsZXNTdGVwKGlucHV0SWQsIG91dHB1dElkKTsKICBjb25zdCBvdXRwdXRFbGVtZW50ID0gZG9jdW1lbnQuZ2V0RWxlbWVudEJ5SWQob3V0cHV0SWQpOwogIC8vIENhY2hlIHN0ZXBzIG9uIHRoZSBvdXRwdXRFbGVtZW50IHRvIG1ha2UgaXQgYXZhaWxhYmxlIGZvciB0aGUgbmV4dCBjYWxsCiAgLy8gdG8gdXBsb2FkRmlsZXNDb250aW51ZSBmcm9tIFB5dGhvbi4KICBvdXRwdXRFbGVtZW50LnN0ZXBzID0gc3RlcHM7CgogIHJldHVybiBfdXBsb2FkRmlsZXNDb250aW51ZShvdXRwdXRJZCk7Cn0KCi8vIFRoaXMgaXMgcm91Z2hseSBhbiBhc3luYyBnZW5lcmF0b3IgKG5vdCBzdXBwb3J0ZWQgaW4gdGhlIGJyb3dzZXIgeWV0KSwKLy8gd2hlcmUgdGhlcmUgYXJlIG11bHRpcGxlIGFzeW5jaHJvbm91cyBzdGVwcyBhbmQgdGhlIFB5dGhvbiBzaWRlIGlzIGdvaW5nCi8vIHRvIHBvbGwgZm9yIGNvbXBsZXRpb24gb2YgZWFjaCBzdGVwLgovLyBUaGlzIHVzZXMgYSBQcm9taXNlIHRvIGJsb2NrIHRoZSBweXRob24gc2lkZSBvbiBjb21wbGV0aW9uIG9mIGVhY2ggc3RlcCwKLy8gdGhlbiBwYXNzZXMgdGhlIHJlc3VsdCBvZiB0aGUgcHJldmlvdXMgc3RlcCBhcyB0aGUgaW5wdXQgdG8gdGhlIG5leHQgc3RlcC4KZnVuY3Rpb24gX3VwbG9hZEZpbGVzQ29udGludWUob3V0cHV0SWQpIHsKICBjb25zdCBvdXRwdXRFbGVtZW50ID0gZG9jdW1lbnQuZ2V0RWxlbWVudEJ5SWQob3V0cHV0SWQpOwogIGNvbnN0IHN0ZXBzID0gb3V0cHV0RWxlbWVudC5zdGVwczsKCiAgY29uc3QgbmV4dCA9IHN0ZXBzLm5leHQob3V0cHV0RWxlbWVudC5sYXN0UHJvbWlzZVZhbHVlKTsKICByZXR1cm4gUHJvbWlzZS5yZXNvbHZlKG5leHQudmFsdWUucHJvbWlzZSkudGhlbigodmFsdWUpID0+IHsKICAgIC8vIENhY2hlIHRoZSBsYXN0IHByb21pc2UgdmFsdWUgdG8gbWFrZSBpdCBhdmFpbGFibGUgdG8gdGhlIG5leHQKICAgIC8vIHN0ZXAgb2YgdGhlIGdlbmVyYXRvci4KICAgIG91dHB1dEVsZW1lbnQubGFzdFByb21pc2VWYWx1ZSA9IHZhbHVlOwogICAgcmV0dXJuIG5leHQudmFsdWUucmVzcG9uc2U7CiAgfSk7Cn0KCi8qKgogKiBHZW5lcmF0b3IgZnVuY3Rpb24gd2hpY2ggaXMgY2FsbGVkIGJldHdlZW4gZWFjaCBhc3luYyBzdGVwIG9mIHRoZSB1cGxvYWQKICogcHJvY2Vzcy4KICogQHBhcmFtIHtzdHJpbmd9IGlucHV0SWQgRWxlbWVudCBJRCBvZiB0aGUgaW5wdXQgZmlsZSBwaWNrZXIgZWxlbWVudC4KICogQHBhcmFtIHtzdHJpbmd9IG91dHB1dElkIEVsZW1lbnQgSUQgb2YgdGhlIG91dHB1dCBkaXNwbGF5LgogKiBAcmV0dXJuIHshSXRlcmFibGU8IU9iamVjdD59IEl0ZXJhYmxlIG9mIG5leHQgc3RlcHMuCiAqLwpmdW5jdGlvbiogdXBsb2FkRmlsZXNTdGVwKGlucHV0SWQsIG91dHB1dElkKSB7CiAgY29uc3QgaW5wdXRFbGVtZW50ID0gZG9jdW1lbnQuZ2V0RWxlbWVudEJ5SWQoaW5wdXRJZCk7CiAgaW5wdXRFbGVtZW50LmRpc2FibGVkID0gZmFsc2U7CgogIGNvbnN0IG91dHB1dEVsZW1lbnQgPSBkb2N1bWVudC5nZXRFbGVtZW50QnlJZChvdXRwdXRJZCk7CiAgb3V0cHV0RWxlbWVudC5pbm5lckhUTUwgPSAnJzsKCiAgY29uc3QgcGlja2VkUHJvbWlzZSA9IG5ldyBQcm9taXNlKChyZXNvbHZlKSA9PiB7CiAgICBpbnB1dEVsZW1lbnQuYWRkRXZlbnRMaXN0ZW5lcignY2hhbmdlJywgKGUpID0+IHsKICAgICAgcmVzb2x2ZShlLnRhcmdldC5maWxlcyk7CiAgICB9KTsKICB9KTsKCiAgY29uc3QgY2FuY2VsID0gZG9jdW1lbnQuY3JlYXRlRWxlbWVudCgnYnV0dG9uJyk7CiAgaW5wdXRFbGVtZW50LnBhcmVudEVsZW1lbnQuYXBwZW5kQ2hpbGQoY2FuY2VsKTsKICBjYW5jZWwudGV4dENvbnRlbnQgPSAnQ2FuY2VsIHVwbG9hZCc7CiAgY29uc3QgY2FuY2VsUHJvbWlzZSA9IG5ldyBQcm9taXNlKChyZXNvbHZlKSA9PiB7CiAgICBjYW5jZWwub25jbGljayA9ICgpID0+IHsKICAgICAgcmVzb2x2ZShudWxsKTsKICAgIH07CiAgfSk7CgogIC8vIENhbmNlbCB1cGxvYWQgaWYgdXNlciBoYXNuJ3QgcGlja2VkIGFueXRoaW5nIGluIHRpbWVvdXQuCiAgY29uc3QgdGltZW91dFByb21pc2UgPSBuZXcgUHJvbWlzZSgocmVzb2x2ZSkgPT4gewogICAgc2V0VGltZW91dCgoKSA9PiB7CiAgICAgIHJlc29sdmUobnVsbCk7CiAgICB9LCBGSUxFX0NIQU5HRV9USU1FT1VUX01TKTsKICB9KTsKCiAgLy8gV2FpdCBmb3IgdGhlIHVzZXIgdG8gcGljayB0aGUgZmlsZXMuCiAgY29uc3QgZmlsZXMgPSB5aWVsZCB7CiAgICBwcm9taXNlOiBQcm9taXNlLnJhY2UoW3BpY2tlZFByb21pc2UsIHRpbWVvdXRQcm9taXNlLCBjYW5jZWxQcm9taXNlXSksCiAgICByZXNwb25zZTogewogICAgICBhY3Rpb246ICdzdGFydGluZycsCiAgICB9CiAgfTsKCiAgaWYgKCFmaWxlcykgewogICAgcmV0dXJuIHsKICAgICAgcmVzcG9uc2U6IHsKICAgICAgICBhY3Rpb246ICdjb21wbGV0ZScsCiAgICAgIH0KICAgIH07CiAgfQoKICBjYW5jZWwucmVtb3ZlKCk7CgogIC8vIERpc2FibGUgdGhlIGlucHV0IGVsZW1lbnQgc2luY2UgZnVydGhlciBwaWNrcyBhcmUgbm90IGFsbG93ZWQuCiAgaW5wdXRFbGVtZW50LmRpc2FibGVkID0gdHJ1ZTsKCiAgZm9yIChjb25zdCBmaWxlIG9mIGZpbGVzKSB7CiAgICBjb25zdCBsaSA9IGRvY3VtZW50LmNyZWF0ZUVsZW1lbnQoJ2xpJyk7CiAgICBsaS5hcHBlbmQoc3BhbihmaWxlLm5hbWUsIHtmb250V2VpZ2h0OiAnYm9sZCd9KSk7CiAgICBsaS5hcHBlbmQoc3BhbigKICAgICAgICBgKCR7ZmlsZS50eXBlIHx8ICduL2EnfSkgLSAke2ZpbGUuc2l6ZX0gYnl0ZXMsIGAgKwogICAgICAgIGBsYXN0IG1vZGlmaWVkOiAkewogICAgICAgICAgICBmaWxlLmxhc3RNb2RpZmllZERhdGUgPyBmaWxlLmxhc3RNb2RpZmllZERhdGUudG9Mb2NhbGVEYXRlU3RyaW5nKCkgOgogICAgICAgICAgICAgICAgICAgICAgICAgICAgICAgICAgICAnbi9hJ30gLSBgKSk7CiAgICBjb25zdCBwZXJjZW50ID0gc3BhbignMCUgZG9uZScpOwogICAgbGkuYXBwZW5kQ2hpbGQocGVyY2VudCk7CgogICAgb3V0cHV0RWxlbWVudC5hcHBlbmRDaGlsZChsaSk7CgogICAgY29uc3QgZmlsZURhdGFQcm9taXNlID0gbmV3IFByb21pc2UoKHJlc29sdmUpID0+IHsKICAgICAgY29uc3QgcmVhZGVyID0gbmV3IEZpbGVSZWFkZXIoKTsKICAgICAgcmVhZGVyLm9ubG9hZCA9IChlKSA9PiB7CiAgICAgICAgcmVzb2x2ZShlLnRhcmdldC5yZXN1bHQpOwogICAgICB9OwogICAgICByZWFkZXIucmVhZEFzQXJyYXlCdWZmZXIoZmlsZSk7CiAgICB9KTsKICAgIC8vIFdhaXQgZm9yIHRoZSBkYXRhIHRvIGJlIHJlYWR5LgogICAgbGV0IGZpbGVEYXRhID0geWllbGQgewogICAgICBwcm9taXNlOiBmaWxlRGF0YVByb21pc2UsCiAgICAgIHJlc3BvbnNlOiB7CiAgICAgICAgYWN0aW9uOiAnY29udGludWUnLAogICAgICB9CiAgICB9OwoKICAgIC8vIFVzZSBhIGNodW5rZWQgc2VuZGluZyB0byBhdm9pZCBtZXNzYWdlIHNpemUgbGltaXRzLiBTZWUgYi82MjExNTY2MC4KICAgIGxldCBwb3NpdGlvbiA9IDA7CiAgICB3aGlsZSAocG9zaXRpb24gPCBmaWxlRGF0YS5ieXRlTGVuZ3RoKSB7CiAgICAgIGNvbnN0IGxlbmd0aCA9IE1hdGgubWluKGZpbGVEYXRhLmJ5dGVMZW5ndGggLSBwb3NpdGlvbiwgTUFYX1BBWUxPQURfU0laRSk7CiAgICAgIGNvbnN0IGNodW5rID0gbmV3IFVpbnQ4QXJyYXkoZmlsZURhdGEsIHBvc2l0aW9uLCBsZW5ndGgpOwogICAgICBwb3NpdGlvbiArPSBsZW5ndGg7CgogICAgICBjb25zdCBiYXNlNjQgPSBidG9hKFN0cmluZy5mcm9tQ2hhckNvZGUuYXBwbHkobnVsbCwgY2h1bmspKTsKICAgICAgeWllbGQgewogICAgICAgIHJlc3BvbnNlOiB7CiAgICAgICAgICBhY3Rpb246ICdhcHBlbmQnLAogICAgICAgICAgZmlsZTogZmlsZS5uYW1lLAogICAgICAgICAgZGF0YTogYmFzZTY0LAogICAgICAgIH0sCiAgICAgIH07CiAgICAgIHBlcmNlbnQudGV4dENvbnRlbnQgPQogICAgICAgICAgYCR7TWF0aC5yb3VuZCgocG9zaXRpb24gLyBmaWxlRGF0YS5ieXRlTGVuZ3RoKSAqIDEwMCl9JSBkb25lYDsKICAgIH0KICB9CgogIC8vIEFsbCBkb25lLgogIHlpZWxkIHsKICAgIHJlc3BvbnNlOiB7CiAgICAgIGFjdGlvbjogJ2NvbXBsZXRlJywKICAgIH0KICB9Owp9CgpzY29wZS5nb29nbGUgPSBzY29wZS5nb29nbGUgfHwge307CnNjb3BlLmdvb2dsZS5jb2xhYiA9IHNjb3BlLmdvb2dsZS5jb2xhYiB8fCB7fTsKc2NvcGUuZ29vZ2xlLmNvbGFiLl9maWxlcyA9IHsKICBfdXBsb2FkRmlsZXMsCiAgX3VwbG9hZEZpbGVzQ29udGludWUsCn07Cn0pKHNlbGYpOwo=",
              "ok": true,
              "headers": [
                [
                  "content-type",
                  "application/javascript"
                ]
              ],
              "status": 200,
              "status_text": ""
            }
          },
          "base_uri": "https://localhost:8080/",
          "height": 74
        },
        "outputId": "12128799-b64b-473f-c058-f4001d3bfffd"
      },
      "source": [
        "from google.colab import files\n",
        "uploaded = files.upload()"
      ],
      "execution_count": null,
      "outputs": [
        {
          "output_type": "display_data",
          "data": {
            "text/html": [
              "\n",
              "     <input type=\"file\" id=\"files-8be3f391-a484-4ad9-859a-6e46dcb969f2\" name=\"files[]\" multiple disabled />\n",
              "     <output id=\"result-8be3f391-a484-4ad9-859a-6e46dcb969f2\">\n",
              "      Upload widget is only available when the cell has been executed in the\n",
              "      current browser session. Please rerun this cell to enable.\n",
              "      </output>\n",
              "      <script src=\"/nbextensions/google.colab/files.js\"></script> "
            ],
            "text/plain": [
              "<IPython.core.display.HTML object>"
            ]
          },
          "metadata": {
            "tags": []
          }
        },
        {
          "output_type": "stream",
          "text": [
            "Saving post-operative.data to post-operative.data\n"
          ],
          "name": "stdout"
        }
      ]
    },
    {
      "cell_type": "code",
      "metadata": {
        "id": "YVZr18GW8L5T",
        "colab_type": "code",
        "colab": {
          "base_uri": "https://localhost:8080/",
          "height": 1000
        },
        "outputId": "2ddc250f-425f-4ec0-e040-7dd70777218b"
      },
      "source": [
        "#Adding attribute names on the columns\n",
        "\n",
        "names = ['L_CORE', 'L_SURF', 'L_O2', 'L_BP', 'SURF_STBL', 'CORE_STBL', 'BP_STBL', 'COMFORT', 'ADM_DECS']\n",
        "data= pd.read_csv('post-operative.data',names=names, sep = '\\,')\n",
        "data"
      ],
      "execution_count": null,
      "outputs": [
        {
          "output_type": "stream",
          "text": [
            "/usr/local/lib/python3.6/dist-packages/ipykernel_launcher.py:3: ParserWarning: Falling back to the 'python' engine because the 'c' engine does not support regex separators (separators > 1 char and different from '\\s+' are interpreted as regex); you can avoid this warning by specifying engine='python'.\n",
            "  This is separate from the ipykernel package so we can avoid doing imports until\n"
          ],
          "name": "stderr"
        },
        {
          "output_type": "execute_result",
          "data": {
            "text/html": [
              "<div>\n",
              "<style scoped>\n",
              "    .dataframe tbody tr th:only-of-type {\n",
              "        vertical-align: middle;\n",
              "    }\n",
              "\n",
              "    .dataframe tbody tr th {\n",
              "        vertical-align: top;\n",
              "    }\n",
              "\n",
              "    .dataframe thead th {\n",
              "        text-align: right;\n",
              "    }\n",
              "</style>\n",
              "<table border=\"1\" class=\"dataframe\">\n",
              "  <thead>\n",
              "    <tr style=\"text-align: right;\">\n",
              "      <th></th>\n",
              "      <th>L_CORE</th>\n",
              "      <th>L_SURF</th>\n",
              "      <th>L_O2</th>\n",
              "      <th>L_BP</th>\n",
              "      <th>SURF_STBL</th>\n",
              "      <th>CORE_STBL</th>\n",
              "      <th>BP_STBL</th>\n",
              "      <th>COMFORT</th>\n",
              "      <th>ADM_DECS</th>\n",
              "    </tr>\n",
              "  </thead>\n",
              "  <tbody>\n",
              "    <tr>\n",
              "      <th>0</th>\n",
              "      <td>mid</td>\n",
              "      <td>low</td>\n",
              "      <td>excellent</td>\n",
              "      <td>mid</td>\n",
              "      <td>stable</td>\n",
              "      <td>stable</td>\n",
              "      <td>stable</td>\n",
              "      <td>15</td>\n",
              "      <td>A</td>\n",
              "    </tr>\n",
              "    <tr>\n",
              "      <th>1</th>\n",
              "      <td>mid</td>\n",
              "      <td>high</td>\n",
              "      <td>excellent</td>\n",
              "      <td>high</td>\n",
              "      <td>stable</td>\n",
              "      <td>stable</td>\n",
              "      <td>stable</td>\n",
              "      <td>10</td>\n",
              "      <td>S</td>\n",
              "    </tr>\n",
              "    <tr>\n",
              "      <th>2</th>\n",
              "      <td>high</td>\n",
              "      <td>low</td>\n",
              "      <td>excellent</td>\n",
              "      <td>high</td>\n",
              "      <td>stable</td>\n",
              "      <td>stable</td>\n",
              "      <td>mod-stable</td>\n",
              "      <td>10</td>\n",
              "      <td>A</td>\n",
              "    </tr>\n",
              "    <tr>\n",
              "      <th>3</th>\n",
              "      <td>mid</td>\n",
              "      <td>low</td>\n",
              "      <td>good</td>\n",
              "      <td>high</td>\n",
              "      <td>stable</td>\n",
              "      <td>unstable</td>\n",
              "      <td>mod-stable</td>\n",
              "      <td>15</td>\n",
              "      <td>A</td>\n",
              "    </tr>\n",
              "    <tr>\n",
              "      <th>4</th>\n",
              "      <td>mid</td>\n",
              "      <td>mid</td>\n",
              "      <td>excellent</td>\n",
              "      <td>high</td>\n",
              "      <td>stable</td>\n",
              "      <td>stable</td>\n",
              "      <td>stable</td>\n",
              "      <td>10</td>\n",
              "      <td>A</td>\n",
              "    </tr>\n",
              "    <tr>\n",
              "      <th>5</th>\n",
              "      <td>high</td>\n",
              "      <td>low</td>\n",
              "      <td>good</td>\n",
              "      <td>mid</td>\n",
              "      <td>stable</td>\n",
              "      <td>stable</td>\n",
              "      <td>unstable</td>\n",
              "      <td>15</td>\n",
              "      <td>S</td>\n",
              "    </tr>\n",
              "    <tr>\n",
              "      <th>6</th>\n",
              "      <td>mid</td>\n",
              "      <td>low</td>\n",
              "      <td>excellent</td>\n",
              "      <td>high</td>\n",
              "      <td>stable</td>\n",
              "      <td>stable</td>\n",
              "      <td>mod-stable</td>\n",
              "      <td>05</td>\n",
              "      <td>S</td>\n",
              "    </tr>\n",
              "    <tr>\n",
              "      <th>7</th>\n",
              "      <td>high</td>\n",
              "      <td>mid</td>\n",
              "      <td>excellent</td>\n",
              "      <td>mid</td>\n",
              "      <td>unstable</td>\n",
              "      <td>unstable</td>\n",
              "      <td>stable</td>\n",
              "      <td>10</td>\n",
              "      <td>S</td>\n",
              "    </tr>\n",
              "    <tr>\n",
              "      <th>8</th>\n",
              "      <td>mid</td>\n",
              "      <td>high</td>\n",
              "      <td>good</td>\n",
              "      <td>mid</td>\n",
              "      <td>stable</td>\n",
              "      <td>stable</td>\n",
              "      <td>stable</td>\n",
              "      <td>10</td>\n",
              "      <td>S</td>\n",
              "    </tr>\n",
              "    <tr>\n",
              "      <th>9</th>\n",
              "      <td>mid</td>\n",
              "      <td>low</td>\n",
              "      <td>excellent</td>\n",
              "      <td>mid</td>\n",
              "      <td>unstable</td>\n",
              "      <td>stable</td>\n",
              "      <td>mod-stable</td>\n",
              "      <td>10</td>\n",
              "      <td>S</td>\n",
              "    </tr>\n",
              "    <tr>\n",
              "      <th>10</th>\n",
              "      <td>mid</td>\n",
              "      <td>mid</td>\n",
              "      <td>good</td>\n",
              "      <td>mid</td>\n",
              "      <td>stable</td>\n",
              "      <td>stable</td>\n",
              "      <td>stable</td>\n",
              "      <td>15</td>\n",
              "      <td>A</td>\n",
              "    </tr>\n",
              "    <tr>\n",
              "      <th>11</th>\n",
              "      <td>mid</td>\n",
              "      <td>low</td>\n",
              "      <td>good</td>\n",
              "      <td>high</td>\n",
              "      <td>stable</td>\n",
              "      <td>stable</td>\n",
              "      <td>mod-stable</td>\n",
              "      <td>10</td>\n",
              "      <td>A</td>\n",
              "    </tr>\n",
              "    <tr>\n",
              "      <th>12</th>\n",
              "      <td>high</td>\n",
              "      <td>high</td>\n",
              "      <td>excellent</td>\n",
              "      <td>high</td>\n",
              "      <td>unstable</td>\n",
              "      <td>stable</td>\n",
              "      <td>unstable</td>\n",
              "      <td>15</td>\n",
              "      <td>A</td>\n",
              "    </tr>\n",
              "    <tr>\n",
              "      <th>13</th>\n",
              "      <td>mid</td>\n",
              "      <td>high</td>\n",
              "      <td>good</td>\n",
              "      <td>mid</td>\n",
              "      <td>unstable</td>\n",
              "      <td>stable</td>\n",
              "      <td>mod-stable</td>\n",
              "      <td>10</td>\n",
              "      <td>A</td>\n",
              "    </tr>\n",
              "    <tr>\n",
              "      <th>14</th>\n",
              "      <td>mid</td>\n",
              "      <td>low</td>\n",
              "      <td>good</td>\n",
              "      <td>high</td>\n",
              "      <td>unstable</td>\n",
              "      <td>unstable</td>\n",
              "      <td>stable</td>\n",
              "      <td>15</td>\n",
              "      <td>S</td>\n",
              "    </tr>\n",
              "    <tr>\n",
              "      <th>15</th>\n",
              "      <td>high</td>\n",
              "      <td>high</td>\n",
              "      <td>excellent</td>\n",
              "      <td>high</td>\n",
              "      <td>unstable</td>\n",
              "      <td>stable</td>\n",
              "      <td>unstable</td>\n",
              "      <td>10</td>\n",
              "      <td>A</td>\n",
              "    </tr>\n",
              "    <tr>\n",
              "      <th>16</th>\n",
              "      <td>low</td>\n",
              "      <td>high</td>\n",
              "      <td>good</td>\n",
              "      <td>high</td>\n",
              "      <td>unstable</td>\n",
              "      <td>stable</td>\n",
              "      <td>mod-stable</td>\n",
              "      <td>15</td>\n",
              "      <td>A</td>\n",
              "    </tr>\n",
              "    <tr>\n",
              "      <th>17</th>\n",
              "      <td>mid</td>\n",
              "      <td>low</td>\n",
              "      <td>good</td>\n",
              "      <td>high</td>\n",
              "      <td>unstable</td>\n",
              "      <td>stable</td>\n",
              "      <td>stable</td>\n",
              "      <td>10</td>\n",
              "      <td>A</td>\n",
              "    </tr>\n",
              "    <tr>\n",
              "      <th>18</th>\n",
              "      <td>mid</td>\n",
              "      <td>high</td>\n",
              "      <td>good</td>\n",
              "      <td>mid</td>\n",
              "      <td>unstable</td>\n",
              "      <td>stable</td>\n",
              "      <td>unstable</td>\n",
              "      <td>15</td>\n",
              "      <td>A</td>\n",
              "    </tr>\n",
              "    <tr>\n",
              "      <th>19</th>\n",
              "      <td>mid</td>\n",
              "      <td>mid</td>\n",
              "      <td>good</td>\n",
              "      <td>mid</td>\n",
              "      <td>stable</td>\n",
              "      <td>stable</td>\n",
              "      <td>stable</td>\n",
              "      <td>10</td>\n",
              "      <td>A</td>\n",
              "    </tr>\n",
              "    <tr>\n",
              "      <th>20</th>\n",
              "      <td>low</td>\n",
              "      <td>high</td>\n",
              "      <td>good</td>\n",
              "      <td>mid</td>\n",
              "      <td>unstable</td>\n",
              "      <td>stable</td>\n",
              "      <td>stable</td>\n",
              "      <td>15</td>\n",
              "      <td>A</td>\n",
              "    </tr>\n",
              "    <tr>\n",
              "      <th>21</th>\n",
              "      <td>low</td>\n",
              "      <td>mid</td>\n",
              "      <td>excellent</td>\n",
              "      <td>high</td>\n",
              "      <td>unstable</td>\n",
              "      <td>stable</td>\n",
              "      <td>unstable</td>\n",
              "      <td>10</td>\n",
              "      <td>S</td>\n",
              "    </tr>\n",
              "    <tr>\n",
              "      <th>22</th>\n",
              "      <td>mid</td>\n",
              "      <td>mid</td>\n",
              "      <td>good</td>\n",
              "      <td>mid</td>\n",
              "      <td>unstable</td>\n",
              "      <td>stable</td>\n",
              "      <td>unstable</td>\n",
              "      <td>15</td>\n",
              "      <td>A</td>\n",
              "    </tr>\n",
              "    <tr>\n",
              "      <th>23</th>\n",
              "      <td>mid</td>\n",
              "      <td>mid</td>\n",
              "      <td>good</td>\n",
              "      <td>mid</td>\n",
              "      <td>unstable</td>\n",
              "      <td>stable</td>\n",
              "      <td>stable</td>\n",
              "      <td>10</td>\n",
              "      <td>A</td>\n",
              "    </tr>\n",
              "    <tr>\n",
              "      <th>24</th>\n",
              "      <td>high</td>\n",
              "      <td>high</td>\n",
              "      <td>good</td>\n",
              "      <td>mid</td>\n",
              "      <td>stable</td>\n",
              "      <td>stable</td>\n",
              "      <td>mod-stable</td>\n",
              "      <td>10</td>\n",
              "      <td>A</td>\n",
              "    </tr>\n",
              "    <tr>\n",
              "      <th>25</th>\n",
              "      <td>low</td>\n",
              "      <td>mid</td>\n",
              "      <td>good</td>\n",
              "      <td>mid</td>\n",
              "      <td>unstable</td>\n",
              "      <td>stable</td>\n",
              "      <td>stable</td>\n",
              "      <td>10</td>\n",
              "      <td>A</td>\n",
              "    </tr>\n",
              "    <tr>\n",
              "      <th>26</th>\n",
              "      <td>high</td>\n",
              "      <td>mid</td>\n",
              "      <td>good</td>\n",
              "      <td>low</td>\n",
              "      <td>stable</td>\n",
              "      <td>stable</td>\n",
              "      <td>mod-stable</td>\n",
              "      <td>10</td>\n",
              "      <td>A</td>\n",
              "    </tr>\n",
              "    <tr>\n",
              "      <th>27</th>\n",
              "      <td>low</td>\n",
              "      <td>mid</td>\n",
              "      <td>excellent</td>\n",
              "      <td>high</td>\n",
              "      <td>stable</td>\n",
              "      <td>stable</td>\n",
              "      <td>mod-stable</td>\n",
              "      <td>10</td>\n",
              "      <td>A</td>\n",
              "    </tr>\n",
              "    <tr>\n",
              "      <th>28</th>\n",
              "      <td>mid</td>\n",
              "      <td>mid</td>\n",
              "      <td>excellent</td>\n",
              "      <td>mid</td>\n",
              "      <td>stable</td>\n",
              "      <td>stable</td>\n",
              "      <td>unstable</td>\n",
              "      <td>15</td>\n",
              "      <td>A</td>\n",
              "    </tr>\n",
              "    <tr>\n",
              "      <th>29</th>\n",
              "      <td>mid</td>\n",
              "      <td>mid</td>\n",
              "      <td>good</td>\n",
              "      <td>mid</td>\n",
              "      <td>unstable</td>\n",
              "      <td>stable</td>\n",
              "      <td>unstable</td>\n",
              "      <td>10</td>\n",
              "      <td>S</td>\n",
              "    </tr>\n",
              "    <tr>\n",
              "      <th>...</th>\n",
              "      <td>...</td>\n",
              "      <td>...</td>\n",
              "      <td>...</td>\n",
              "      <td>...</td>\n",
              "      <td>...</td>\n",
              "      <td>...</td>\n",
              "      <td>...</td>\n",
              "      <td>...</td>\n",
              "      <td>...</td>\n",
              "    </tr>\n",
              "    <tr>\n",
              "      <th>60</th>\n",
              "      <td>mid</td>\n",
              "      <td>high</td>\n",
              "      <td>good</td>\n",
              "      <td>mid</td>\n",
              "      <td>unstable</td>\n",
              "      <td>stable</td>\n",
              "      <td>unstable</td>\n",
              "      <td>10</td>\n",
              "      <td>A</td>\n",
              "    </tr>\n",
              "    <tr>\n",
              "      <th>61</th>\n",
              "      <td>mid</td>\n",
              "      <td>low</td>\n",
              "      <td>excellent</td>\n",
              "      <td>high</td>\n",
              "      <td>stable</td>\n",
              "      <td>stable</td>\n",
              "      <td>stable</td>\n",
              "      <td>10</td>\n",
              "      <td>A</td>\n",
              "    </tr>\n",
              "    <tr>\n",
              "      <th>62</th>\n",
              "      <td>mid</td>\n",
              "      <td>mid</td>\n",
              "      <td>good</td>\n",
              "      <td>mid</td>\n",
              "      <td>stable</td>\n",
              "      <td>stable</td>\n",
              "      <td>unstable</td>\n",
              "      <td>10</td>\n",
              "      <td>A</td>\n",
              "    </tr>\n",
              "    <tr>\n",
              "      <th>63</th>\n",
              "      <td>mid</td>\n",
              "      <td>low</td>\n",
              "      <td>excellent</td>\n",
              "      <td>mid</td>\n",
              "      <td>stable</td>\n",
              "      <td>stable</td>\n",
              "      <td>unstable</td>\n",
              "      <td>10</td>\n",
              "      <td>S</td>\n",
              "    </tr>\n",
              "    <tr>\n",
              "      <th>64</th>\n",
              "      <td>high</td>\n",
              "      <td>mid</td>\n",
              "      <td>excellent</td>\n",
              "      <td>mid</td>\n",
              "      <td>unstable</td>\n",
              "      <td>unstable</td>\n",
              "      <td>unstable</td>\n",
              "      <td>10</td>\n",
              "      <td>A</td>\n",
              "    </tr>\n",
              "    <tr>\n",
              "      <th>65</th>\n",
              "      <td>mid</td>\n",
              "      <td>mid</td>\n",
              "      <td>good</td>\n",
              "      <td>high</td>\n",
              "      <td>stable</td>\n",
              "      <td>stable</td>\n",
              "      <td>stable</td>\n",
              "      <td>10</td>\n",
              "      <td>S</td>\n",
              "    </tr>\n",
              "    <tr>\n",
              "      <th>66</th>\n",
              "      <td>mid</td>\n",
              "      <td>low</td>\n",
              "      <td>excellent</td>\n",
              "      <td>mid</td>\n",
              "      <td>unstable</td>\n",
              "      <td>stable</td>\n",
              "      <td>stable</td>\n",
              "      <td>10</td>\n",
              "      <td>A</td>\n",
              "    </tr>\n",
              "    <tr>\n",
              "      <th>67</th>\n",
              "      <td>mid</td>\n",
              "      <td>mid</td>\n",
              "      <td>excellent</td>\n",
              "      <td>mid</td>\n",
              "      <td>unstable</td>\n",
              "      <td>stable</td>\n",
              "      <td>stable</td>\n",
              "      <td>10</td>\n",
              "      <td>A</td>\n",
              "    </tr>\n",
              "    <tr>\n",
              "      <th>68</th>\n",
              "      <td>mid</td>\n",
              "      <td>mid</td>\n",
              "      <td>excellent</td>\n",
              "      <td>high</td>\n",
              "      <td>stable</td>\n",
              "      <td>stable</td>\n",
              "      <td>stable</td>\n",
              "      <td>10</td>\n",
              "      <td>A</td>\n",
              "    </tr>\n",
              "    <tr>\n",
              "      <th>69</th>\n",
              "      <td>mid</td>\n",
              "      <td>mid</td>\n",
              "      <td>excellent</td>\n",
              "      <td>low</td>\n",
              "      <td>stable</td>\n",
              "      <td>stable</td>\n",
              "      <td>stable</td>\n",
              "      <td>10</td>\n",
              "      <td>A</td>\n",
              "    </tr>\n",
              "    <tr>\n",
              "      <th>70</th>\n",
              "      <td>mid</td>\n",
              "      <td>low</td>\n",
              "      <td>excellent</td>\n",
              "      <td>mid</td>\n",
              "      <td>unstable</td>\n",
              "      <td>unstable</td>\n",
              "      <td>unstable</td>\n",
              "      <td>?</td>\n",
              "      <td>A</td>\n",
              "    </tr>\n",
              "    <tr>\n",
              "      <th>71</th>\n",
              "      <td>low</td>\n",
              "      <td>low</td>\n",
              "      <td>excellent</td>\n",
              "      <td>mid</td>\n",
              "      <td>stable</td>\n",
              "      <td>stable</td>\n",
              "      <td>stable</td>\n",
              "      <td>10</td>\n",
              "      <td>A</td>\n",
              "    </tr>\n",
              "    <tr>\n",
              "      <th>72</th>\n",
              "      <td>mid</td>\n",
              "      <td>mid</td>\n",
              "      <td>excellent</td>\n",
              "      <td>mid</td>\n",
              "      <td>stable</td>\n",
              "      <td>stable</td>\n",
              "      <td>mod-stable</td>\n",
              "      <td>10</td>\n",
              "      <td>S</td>\n",
              "    </tr>\n",
              "    <tr>\n",
              "      <th>73</th>\n",
              "      <td>mid</td>\n",
              "      <td>mid</td>\n",
              "      <td>excellent</td>\n",
              "      <td>high</td>\n",
              "      <td>stable</td>\n",
              "      <td>stable</td>\n",
              "      <td>stable</td>\n",
              "      <td>10</td>\n",
              "      <td>A</td>\n",
              "    </tr>\n",
              "    <tr>\n",
              "      <th>74</th>\n",
              "      <td>mid</td>\n",
              "      <td>low</td>\n",
              "      <td>excellent</td>\n",
              "      <td>high</td>\n",
              "      <td>stable</td>\n",
              "      <td>stable</td>\n",
              "      <td>mod-stable</td>\n",
              "      <td>10</td>\n",
              "      <td>A</td>\n",
              "    </tr>\n",
              "    <tr>\n",
              "      <th>75</th>\n",
              "      <td>low</td>\n",
              "      <td>mid</td>\n",
              "      <td>good</td>\n",
              "      <td>mid</td>\n",
              "      <td>stable</td>\n",
              "      <td>stable</td>\n",
              "      <td>unstable</td>\n",
              "      <td>10</td>\n",
              "      <td>A</td>\n",
              "    </tr>\n",
              "    <tr>\n",
              "      <th>76</th>\n",
              "      <td>mid</td>\n",
              "      <td>mid</td>\n",
              "      <td>excellent</td>\n",
              "      <td>mid</td>\n",
              "      <td>stable</td>\n",
              "      <td>stable</td>\n",
              "      <td>mod-stable</td>\n",
              "      <td>10</td>\n",
              "      <td>A</td>\n",
              "    </tr>\n",
              "    <tr>\n",
              "      <th>77</th>\n",
              "      <td>mid</td>\n",
              "      <td>mid</td>\n",
              "      <td>excellent</td>\n",
              "      <td>mid</td>\n",
              "      <td>stable</td>\n",
              "      <td>stable</td>\n",
              "      <td>unstable</td>\n",
              "      <td>10</td>\n",
              "      <td>A</td>\n",
              "    </tr>\n",
              "    <tr>\n",
              "      <th>78</th>\n",
              "      <td>mid</td>\n",
              "      <td>mid</td>\n",
              "      <td>excellent</td>\n",
              "      <td>mid</td>\n",
              "      <td>unstable</td>\n",
              "      <td>unstable</td>\n",
              "      <td>stable</td>\n",
              "      <td>10</td>\n",
              "      <td>S</td>\n",
              "    </tr>\n",
              "    <tr>\n",
              "      <th>79</th>\n",
              "      <td>mid</td>\n",
              "      <td>mid</td>\n",
              "      <td>good</td>\n",
              "      <td>high</td>\n",
              "      <td>stable</td>\n",
              "      <td>stable</td>\n",
              "      <td>stable</td>\n",
              "      <td>10</td>\n",
              "      <td>A</td>\n",
              "    </tr>\n",
              "    <tr>\n",
              "      <th>80</th>\n",
              "      <td>mid</td>\n",
              "      <td>mid</td>\n",
              "      <td>excellent</td>\n",
              "      <td>mid</td>\n",
              "      <td>stable</td>\n",
              "      <td>stable</td>\n",
              "      <td>stable</td>\n",
              "      <td>15</td>\n",
              "      <td>A</td>\n",
              "    </tr>\n",
              "    <tr>\n",
              "      <th>81</th>\n",
              "      <td>mid</td>\n",
              "      <td>mid</td>\n",
              "      <td>excellent</td>\n",
              "      <td>mid</td>\n",
              "      <td>stable</td>\n",
              "      <td>stable</td>\n",
              "      <td>stable</td>\n",
              "      <td>10</td>\n",
              "      <td>S</td>\n",
              "    </tr>\n",
              "    <tr>\n",
              "      <th>82</th>\n",
              "      <td>mid</td>\n",
              "      <td>low</td>\n",
              "      <td>good</td>\n",
              "      <td>mid</td>\n",
              "      <td>stable</td>\n",
              "      <td>stable</td>\n",
              "      <td>unstable</td>\n",
              "      <td>10</td>\n",
              "      <td>I</td>\n",
              "    </tr>\n",
              "    <tr>\n",
              "      <th>83</th>\n",
              "      <td>high</td>\n",
              "      <td>mid</td>\n",
              "      <td>excellent</td>\n",
              "      <td>mid</td>\n",
              "      <td>unstable</td>\n",
              "      <td>stable</td>\n",
              "      <td>unstable</td>\n",
              "      <td>05</td>\n",
              "      <td>A</td>\n",
              "    </tr>\n",
              "    <tr>\n",
              "      <th>84</th>\n",
              "      <td>mid</td>\n",
              "      <td>mid</td>\n",
              "      <td>excellent</td>\n",
              "      <td>mid</td>\n",
              "      <td>stable</td>\n",
              "      <td>stable</td>\n",
              "      <td>unstable</td>\n",
              "      <td>10</td>\n",
              "      <td>A</td>\n",
              "    </tr>\n",
              "    <tr>\n",
              "      <th>85</th>\n",
              "      <td>mid</td>\n",
              "      <td>mid</td>\n",
              "      <td>excellent</td>\n",
              "      <td>mid</td>\n",
              "      <td>unstable</td>\n",
              "      <td>stable</td>\n",
              "      <td>stable</td>\n",
              "      <td>10</td>\n",
              "      <td>A</td>\n",
              "    </tr>\n",
              "    <tr>\n",
              "      <th>86</th>\n",
              "      <td>mid</td>\n",
              "      <td>mid</td>\n",
              "      <td>excellent</td>\n",
              "      <td>mid</td>\n",
              "      <td>unstable</td>\n",
              "      <td>stable</td>\n",
              "      <td>stable</td>\n",
              "      <td>15</td>\n",
              "      <td>S</td>\n",
              "    </tr>\n",
              "    <tr>\n",
              "      <th>87</th>\n",
              "      <td>mid</td>\n",
              "      <td>mid</td>\n",
              "      <td>good</td>\n",
              "      <td>mid</td>\n",
              "      <td>unstable</td>\n",
              "      <td>stable</td>\n",
              "      <td>stable</td>\n",
              "      <td>15</td>\n",
              "      <td>A</td>\n",
              "    </tr>\n",
              "    <tr>\n",
              "      <th>88</th>\n",
              "      <td>mid</td>\n",
              "      <td>mid</td>\n",
              "      <td>excellent</td>\n",
              "      <td>mid</td>\n",
              "      <td>unstable</td>\n",
              "      <td>stable</td>\n",
              "      <td>stable</td>\n",
              "      <td>10</td>\n",
              "      <td>A</td>\n",
              "    </tr>\n",
              "    <tr>\n",
              "      <th>89</th>\n",
              "      <td>mid</td>\n",
              "      <td>mid</td>\n",
              "      <td>good</td>\n",
              "      <td>mid</td>\n",
              "      <td>unstable</td>\n",
              "      <td>stable</td>\n",
              "      <td>stable</td>\n",
              "      <td>15</td>\n",
              "      <td>S</td>\n",
              "    </tr>\n",
              "  </tbody>\n",
              "</table>\n",
              "<p>90 rows × 9 columns</p>\n",
              "</div>"
            ],
            "text/plain": [
              "   L_CORE L_SURF       L_O2  L_BP  ... CORE_STBL     BP_STBL COMFORT ADM_DECS\n",
              "0     mid    low  excellent   mid  ...    stable      stable      15        A\n",
              "1     mid   high  excellent  high  ...    stable      stable      10        S\n",
              "2    high    low  excellent  high  ...    stable  mod-stable      10        A\n",
              "3     mid    low       good  high  ...  unstable  mod-stable      15        A\n",
              "4     mid    mid  excellent  high  ...    stable      stable      10        A\n",
              "5    high    low       good   mid  ...    stable    unstable      15        S\n",
              "6     mid    low  excellent  high  ...    stable  mod-stable      05        S\n",
              "7    high    mid  excellent   mid  ...  unstable      stable      10        S\n",
              "8     mid   high       good   mid  ...    stable      stable      10        S\n",
              "9     mid    low  excellent   mid  ...    stable  mod-stable      10        S\n",
              "10    mid    mid       good   mid  ...    stable      stable      15        A\n",
              "11    mid    low       good  high  ...    stable  mod-stable      10        A\n",
              "12   high   high  excellent  high  ...    stable    unstable      15        A\n",
              "13    mid   high       good   mid  ...    stable  mod-stable      10        A\n",
              "14    mid    low       good  high  ...  unstable      stable      15        S\n",
              "15   high   high  excellent  high  ...    stable    unstable      10        A\n",
              "16    low   high       good  high  ...    stable  mod-stable      15        A\n",
              "17    mid    low       good  high  ...    stable      stable      10        A\n",
              "18    mid   high       good   mid  ...    stable    unstable      15        A\n",
              "19    mid    mid       good   mid  ...    stable      stable      10        A\n",
              "20    low   high       good   mid  ...    stable      stable      15        A\n",
              "21    low    mid  excellent  high  ...    stable    unstable      10        S\n",
              "22    mid    mid       good   mid  ...    stable    unstable      15        A\n",
              "23    mid    mid       good   mid  ...    stable      stable      10        A\n",
              "24   high   high       good   mid  ...    stable  mod-stable      10        A\n",
              "25    low    mid       good   mid  ...    stable      stable      10        A\n",
              "26   high    mid       good   low  ...    stable  mod-stable      10        A\n",
              "27    low    mid  excellent  high  ...    stable  mod-stable      10        A\n",
              "28    mid    mid  excellent   mid  ...    stable    unstable      15        A\n",
              "29    mid    mid       good   mid  ...    stable    unstable      10        S\n",
              "..    ...    ...        ...   ...  ...       ...         ...     ...      ...\n",
              "60    mid   high       good   mid  ...    stable    unstable      10        A\n",
              "61    mid    low  excellent  high  ...    stable      stable      10        A\n",
              "62    mid    mid       good   mid  ...    stable    unstable      10        A\n",
              "63    mid    low  excellent   mid  ...    stable    unstable      10        S\n",
              "64   high    mid  excellent   mid  ...  unstable    unstable      10        A\n",
              "65    mid    mid       good  high  ...    stable      stable      10        S\n",
              "66    mid    low  excellent   mid  ...    stable      stable      10        A\n",
              "67    mid    mid  excellent   mid  ...    stable      stable      10        A\n",
              "68    mid    mid  excellent  high  ...    stable      stable      10        A\n",
              "69    mid    mid  excellent   low  ...    stable      stable      10        A\n",
              "70    mid    low  excellent   mid  ...  unstable    unstable       ?        A\n",
              "71    low    low  excellent   mid  ...    stable      stable      10        A\n",
              "72    mid    mid  excellent   mid  ...    stable  mod-stable      10        S\n",
              "73    mid    mid  excellent  high  ...    stable      stable      10        A\n",
              "74    mid    low  excellent  high  ...    stable  mod-stable      10        A\n",
              "75    low    mid       good   mid  ...    stable    unstable      10        A\n",
              "76    mid    mid  excellent   mid  ...    stable  mod-stable      10        A\n",
              "77    mid    mid  excellent   mid  ...    stable    unstable      10        A\n",
              "78    mid    mid  excellent   mid  ...  unstable      stable      10        S\n",
              "79    mid    mid       good  high  ...    stable      stable      10        A\n",
              "80    mid    mid  excellent   mid  ...    stable      stable      15        A\n",
              "81    mid    mid  excellent   mid  ...    stable      stable      10        S\n",
              "82    mid    low       good   mid  ...    stable    unstable      10        I\n",
              "83   high    mid  excellent   mid  ...    stable    unstable      05        A\n",
              "84    mid    mid  excellent   mid  ...    stable    unstable      10        A\n",
              "85    mid    mid  excellent   mid  ...    stable      stable      10        A\n",
              "86    mid    mid  excellent   mid  ...    stable      stable      15        S\n",
              "87    mid    mid       good   mid  ...    stable      stable      15        A\n",
              "88    mid    mid  excellent   mid  ...    stable      stable      10        A\n",
              "89    mid    mid       good   mid  ...    stable      stable      15        S\n",
              "\n",
              "[90 rows x 9 columns]"
            ]
          },
          "metadata": {
            "tags": []
          },
          "execution_count": 15
        }
      ]
    },
    {
      "cell_type": "markdown",
      "metadata": {
        "id": "YXS_ZKXzeTxq",
        "colab_type": "text"
      },
      "source": [
        "# Viewing/ Inspecting Data"
      ]
    },
    {
      "cell_type": "code",
      "metadata": {
        "id": "yZCVA5moAHIx",
        "colab_type": "code",
        "colab": {
          "base_uri": "https://localhost:8080/",
          "height": 272
        },
        "outputId": "ded00eca-4f75-4afa-a96f-eb0d4d05e23a"
      },
      "source": [
        "#Getting the information about data - Index, Datatype and Memory information\n",
        "print(data.info())"
      ],
      "execution_count": null,
      "outputs": [
        {
          "output_type": "stream",
          "text": [
            "<class 'pandas.core.frame.DataFrame'>\n",
            "RangeIndex: 90 entries, 0 to 89\n",
            "Data columns (total 9 columns):\n",
            "L_CORE       90 non-null object\n",
            "L_SURF       90 non-null object\n",
            "L_O2         90 non-null object\n",
            "L_BP         90 non-null object\n",
            "SURF_STBL    90 non-null object\n",
            "CORE_STBL    90 non-null object\n",
            "BP_STBL      90 non-null object\n",
            "COMFORT      90 non-null int64\n",
            "ADM_DECS     90 non-null object\n",
            "dtypes: int64(1), object(8)\n",
            "memory usage: 6.4+ KB\n",
            "None\n"
          ],
          "name": "stdout"
        }
      ]
    },
    {
      "cell_type": "code",
      "metadata": {
        "id": "OAr7kK46AK7d",
        "colab_type": "code",
        "colab": {
          "base_uri": "https://localhost:8080/",
          "height": 1000
        },
        "outputId": "d0fb7a55-6576-43ad-ca50-aebe13bd9f29"
      },
      "source": [
        "#viewing the data \n",
        "data.describe"
      ],
      "execution_count": null,
      "outputs": [
        {
          "output_type": "execute_result",
          "data": {
            "text/plain": [
              "<bound method NDFrame.describe of    L_CORE L_SURF       L_O2  L_BP  ... CORE_STBL     BP_STBL COMFORT  ADM_DECS\n",
              "0     mid    low  excellent   mid  ...    stable      stable      15         A\n",
              "1     mid   high  excellent  high  ...    stable      stable      10         S\n",
              "2    high    low  excellent  high  ...    stable  mod-stable      10         A\n",
              "3     mid    low       good  high  ...  unstable  mod-stable      15         A\n",
              "4     mid    mid  excellent  high  ...    stable      stable      10         A\n",
              "5    high    low       good   mid  ...    stable    unstable      15         S\n",
              "6     mid    low  excellent  high  ...    stable  mod-stable       5         S\n",
              "7    high    mid  excellent   mid  ...  unstable      stable      10         S\n",
              "8     mid   high       good   mid  ...    stable      stable      10         S\n",
              "9     mid    low  excellent   mid  ...    stable  mod-stable      10         S\n",
              "10    mid    mid       good   mid  ...    stable      stable      15         A\n",
              "11    mid    low       good  high  ...    stable  mod-stable      10         A\n",
              "12   high   high  excellent  high  ...    stable    unstable      15         A\n",
              "13    mid   high       good   mid  ...    stable  mod-stable      10         A\n",
              "14    mid    low       good  high  ...  unstable      stable      15         S\n",
              "15   high   high  excellent  high  ...    stable    unstable      10         A\n",
              "16    low   high       good  high  ...    stable  mod-stable      15         A\n",
              "17    mid    low       good  high  ...    stable      stable      10         A\n",
              "18    mid   high       good   mid  ...    stable    unstable      15         A\n",
              "19    mid    mid       good   mid  ...    stable      stable      10         A\n",
              "20    low   high       good   mid  ...    stable      stable      15         A\n",
              "21    low    mid  excellent  high  ...    stable    unstable      10         S\n",
              "22    mid    mid       good   mid  ...    stable    unstable      15         A\n",
              "23    mid    mid       good   mid  ...    stable      stable      10         A\n",
              "24   high   high       good   mid  ...    stable  mod-stable      10         A\n",
              "25    low    mid       good   mid  ...    stable      stable      10         A\n",
              "26   high    mid       good   low  ...    stable  mod-stable      10         A\n",
              "27    low    mid  excellent  high  ...    stable  mod-stable      10         A\n",
              "28    mid    mid  excellent   mid  ...    stable    unstable      15         A\n",
              "29    mid    mid       good   mid  ...    stable    unstable      10         S\n",
              "..    ...    ...        ...   ...  ...       ...         ...     ...       ...\n",
              "60    mid   high       good   mid  ...    stable    unstable      10         A\n",
              "61    mid    low  excellent  high  ...    stable      stable      10         A\n",
              "62    mid    mid       good   mid  ...    stable    unstable      10         A\n",
              "63    mid    low  excellent   mid  ...    stable    unstable      10         S\n",
              "64   high    mid  excellent   mid  ...  unstable    unstable      10         A\n",
              "65    mid    mid       good  high  ...    stable      stable      10         S\n",
              "66    mid    low  excellent   mid  ...    stable      stable      10         A\n",
              "67    mid    mid  excellent   mid  ...    stable      stable      10         A\n",
              "68    mid    mid  excellent  high  ...    stable      stable      10         A\n",
              "69    mid    mid  excellent   low  ...    stable      stable      10         A\n",
              "70    mid    low  excellent   mid  ...  unstable    unstable       0         A\n",
              "71    low    low  excellent   mid  ...    stable      stable      10         A\n",
              "72    mid    mid  excellent   mid  ...    stable  mod-stable      10         S\n",
              "73    mid    mid  excellent  high  ...    stable      stable      10         A\n",
              "74    mid    low  excellent  high  ...    stable  mod-stable      10         A\n",
              "75    low    mid       good   mid  ...    stable    unstable      10         A\n",
              "76    mid    mid  excellent   mid  ...    stable  mod-stable      10         A\n",
              "77    mid    mid  excellent   mid  ...    stable    unstable      10         A\n",
              "78    mid    mid  excellent   mid  ...  unstable      stable      10         S\n",
              "79    mid    mid       good  high  ...    stable      stable      10         A\n",
              "80    mid    mid  excellent   mid  ...    stable      stable      15         A\n",
              "81    mid    mid  excellent   mid  ...    stable      stable      10         S\n",
              "82    mid    low       good   mid  ...    stable    unstable      10         I\n",
              "83   high    mid  excellent   mid  ...    stable    unstable       5         A\n",
              "84    mid    mid  excellent   mid  ...    stable    unstable      10         A\n",
              "85    mid    mid  excellent   mid  ...    stable      stable      10         A\n",
              "86    mid    mid  excellent   mid  ...    stable      stable      15         S\n",
              "87    mid    mid       good   mid  ...    stable      stable      15         A\n",
              "88    mid    mid  excellent   mid  ...    stable      stable      10         A\n",
              "89    mid    mid       good   mid  ...    stable      stable      15         S\n",
              "\n",
              "[90 rows x 9 columns]>"
            ]
          },
          "metadata": {
            "tags": []
          },
          "execution_count": 16
        }
      ]
    },
    {
      "cell_type": "code",
      "metadata": {
        "id": "-j8z0A8qAO7c",
        "colab_type": "code",
        "colab": {
          "base_uri": "https://localhost:8080/",
          "height": 297
        },
        "outputId": "7f4f2aec-2ac9-4bb2-811d-50fab68cab6c"
      },
      "source": [
        "#Getting the summary statistics of numerical data  \n",
        "data.describe()"
      ],
      "execution_count": null,
      "outputs": [
        {
          "output_type": "execute_result",
          "data": {
            "text/html": [
              "<div>\n",
              "<style scoped>\n",
              "    .dataframe tbody tr th:only-of-type {\n",
              "        vertical-align: middle;\n",
              "    }\n",
              "\n",
              "    .dataframe tbody tr th {\n",
              "        vertical-align: top;\n",
              "    }\n",
              "\n",
              "    .dataframe thead th {\n",
              "        text-align: right;\n",
              "    }\n",
              "</style>\n",
              "<table border=\"1\" class=\"dataframe\">\n",
              "  <thead>\n",
              "    <tr style=\"text-align: right;\">\n",
              "      <th></th>\n",
              "      <th>COMFORT</th>\n",
              "    </tr>\n",
              "  </thead>\n",
              "  <tbody>\n",
              "    <tr>\n",
              "      <th>count</th>\n",
              "      <td>90.000000</td>\n",
              "    </tr>\n",
              "    <tr>\n",
              "      <th>mean</th>\n",
              "      <td>10.577778</td>\n",
              "    </tr>\n",
              "    <tr>\n",
              "      <th>std</th>\n",
              "      <td>3.005530</td>\n",
              "    </tr>\n",
              "    <tr>\n",
              "      <th>min</th>\n",
              "      <td>0.000000</td>\n",
              "    </tr>\n",
              "    <tr>\n",
              "      <th>25%</th>\n",
              "      <td>10.000000</td>\n",
              "    </tr>\n",
              "    <tr>\n",
              "      <th>50%</th>\n",
              "      <td>10.000000</td>\n",
              "    </tr>\n",
              "    <tr>\n",
              "      <th>75%</th>\n",
              "      <td>10.000000</td>\n",
              "    </tr>\n",
              "    <tr>\n",
              "      <th>max</th>\n",
              "      <td>15.000000</td>\n",
              "    </tr>\n",
              "  </tbody>\n",
              "</table>\n",
              "</div>"
            ],
            "text/plain": [
              "         COMFORT\n",
              "count  90.000000\n",
              "mean   10.577778\n",
              "std     3.005530\n",
              "min     0.000000\n",
              "25%    10.000000\n",
              "50%    10.000000\n",
              "75%    10.000000\n",
              "max    15.000000"
            ]
          },
          "metadata": {
            "tags": []
          },
          "execution_count": 17
        }
      ]
    },
    {
      "cell_type": "code",
      "metadata": {
        "id": "mG7O21jHBA6Y",
        "colab_type": "code",
        "colab": {
          "base_uri": "https://localhost:8080/",
          "height": 68
        },
        "outputId": "2cb0c69f-e82c-48e4-bc9a-755fd0264f2d"
      },
      "source": [
        "#Viewing the data columns\n",
        "data.columns"
      ],
      "execution_count": null,
      "outputs": [
        {
          "output_type": "execute_result",
          "data": {
            "text/plain": [
              "Index(['L_CORE', 'L_SURF', 'L_O2', 'L_BP', 'SURF_STBL', 'CORE_STBL', 'BP_STBL',\n",
              "       'COMFORT', 'ADM_DECS'],\n",
              "      dtype='object')"
            ]
          },
          "metadata": {
            "tags": []
          },
          "execution_count": 18
        }
      ]
    },
    {
      "cell_type": "code",
      "metadata": {
        "id": "GtwLOOChAxXM",
        "colab_type": "code",
        "colab": {
          "base_uri": "https://localhost:8080/",
          "height": 187
        },
        "outputId": "d7aac3b7-e7d5-4e8b-838a-a4b072d2191a"
      },
      "source": [
        "#Viewing the data at a particular index \n",
        "data.loc[70]"
      ],
      "execution_count": null,
      "outputs": [
        {
          "output_type": "execute_result",
          "data": {
            "text/plain": [
              "L_CORE             mid\n",
              "L_SURF             low\n",
              "L_O2         excellent\n",
              "L_BP               mid\n",
              "SURF_STBL     unstable\n",
              "CORE_STBL     unstable\n",
              "BP_STBL       unstable\n",
              "COMFORT              0\n",
              "ADM_DECS             A\n",
              "Name: 70, dtype: object"
            ]
          },
          "metadata": {
            "tags": []
          },
          "execution_count": 19
        }
      ]
    },
    {
      "cell_type": "markdown",
      "metadata": {
        "id": "6YR2UydJav2_",
        "colab_type": "text"
      },
      "source": [
        "# Dealing with missing data"
      ]
    },
    {
      "cell_type": "markdown",
      "metadata": {
        "id": "WPKFOBjQWRh2",
        "colab_type": "text"
      },
      "source": [
        "**Checking for null values**"
      ]
    },
    {
      "cell_type": "code",
      "metadata": {
        "id": "lo084N6gBZS2",
        "colab_type": "code",
        "colab": {
          "base_uri": "https://localhost:8080/",
          "height": 187
        },
        "outputId": "b6d8abf4-a459-4daa-a6ab-45d1f6be1295"
      },
      "source": [
        "#checking for null values, it does not give us the accurate information about the missing data, as our data has 0 instead of a null value. But, we still check for a null value\n",
        "data.isnull().sum()"
      ],
      "execution_count": null,
      "outputs": [
        {
          "output_type": "execute_result",
          "data": {
            "text/plain": [
              "L_CORE       0\n",
              "L_SURF       0\n",
              "L_O2         0\n",
              "L_BP         0\n",
              "SURF_STBL    0\n",
              "CORE_STBL    0\n",
              "BP_STBL      0\n",
              "COMFORT      0\n",
              "ADM_DECS     0\n",
              "dtype: int64"
            ]
          },
          "metadata": {
            "tags": []
          },
          "execution_count": 42
        }
      ]
    },
    {
      "cell_type": "code",
      "metadata": {
        "id": "Y9clKtT4b6qa",
        "colab_type": "code",
        "colab": {}
      },
      "source": [
        "#deleting columns with null values, it does not do anything as there is no Nan in our data. Instead we have 0 in the missing data\n",
        "data.dropna()"
      ],
      "execution_count": null,
      "outputs": []
    },
    {
      "cell_type": "markdown",
      "metadata": {
        "id": "unuQyMjZiXro",
        "colab_type": "text"
      },
      "source": [
        "# Deleting missing values\n",
        "Deleting the values which are entered as 0 "
      ]
    },
    {
      "cell_type": "code",
      "metadata": {
        "id": "AMXCdFBBBdE6",
        "colab_type": "code",
        "colab": {
          "base_uri": "https://localhost:8080/",
          "height": 1000
        },
        "outputId": "027cb805-df82-495d-ac94-82dbddcec0b6"
      },
      "source": [
        "data_nomissing = data[(data.astype(str) != '0').all(axis=1)]\n",
        "newdata = data_nomissing\n",
        "print(newdata)"
      ],
      "execution_count": null,
      "outputs": [
        {
          "output_type": "stream",
          "text": [
            "   L_CORE L_SURF       L_O2  L_BP  ... CORE_STBL     BP_STBL COMFORT  ADM_DECS\n",
            "0     mid    low  excellent   mid  ...    stable      stable      15         A\n",
            "1     mid   high  excellent  high  ...    stable      stable      10         S\n",
            "2    high    low  excellent  high  ...    stable  mod-stable      10         A\n",
            "3     mid    low       good  high  ...  unstable  mod-stable      15         A\n",
            "4     mid    mid  excellent  high  ...    stable      stable      10         A\n",
            "5    high    low       good   mid  ...    stable    unstable      15         S\n",
            "6     mid    low  excellent  high  ...    stable  mod-stable       5         S\n",
            "7    high    mid  excellent   mid  ...  unstable      stable      10         S\n",
            "8     mid   high       good   mid  ...    stable      stable      10         S\n",
            "9     mid    low  excellent   mid  ...    stable  mod-stable      10         S\n",
            "10    mid    mid       good   mid  ...    stable      stable      15         A\n",
            "11    mid    low       good  high  ...    stable  mod-stable      10         A\n",
            "12   high   high  excellent  high  ...    stable    unstable      15         A\n",
            "13    mid   high       good   mid  ...    stable  mod-stable      10         A\n",
            "14    mid    low       good  high  ...  unstable      stable      15         S\n",
            "15   high   high  excellent  high  ...    stable    unstable      10         A\n",
            "16    low   high       good  high  ...    stable  mod-stable      15         A\n",
            "17    mid    low       good  high  ...    stable      stable      10         A\n",
            "18    mid   high       good   mid  ...    stable    unstable      15         A\n",
            "19    mid    mid       good   mid  ...    stable      stable      10         A\n",
            "20    low   high       good   mid  ...    stable      stable      15         A\n",
            "21    low    mid  excellent  high  ...    stable    unstable      10         S\n",
            "22    mid    mid       good   mid  ...    stable    unstable      15         A\n",
            "23    mid    mid       good   mid  ...    stable      stable      10         A\n",
            "24   high   high       good   mid  ...    stable  mod-stable      10         A\n",
            "25    low    mid       good   mid  ...    stable      stable      10         A\n",
            "26   high    mid       good   low  ...    stable  mod-stable      10         A\n",
            "27    low    mid  excellent  high  ...    stable  mod-stable      10         A\n",
            "28    mid    mid  excellent   mid  ...    stable    unstable      15         A\n",
            "29    mid    mid       good   mid  ...    stable    unstable      10         S\n",
            "..    ...    ...        ...   ...  ...       ...         ...     ...       ...\n",
            "59    mid   high       good   mid  ...    stable  mod-stable      10         A\n",
            "60    mid   high       good   mid  ...    stable    unstable      10         A\n",
            "61    mid    low  excellent  high  ...    stable      stable      10         A\n",
            "62    mid    mid       good   mid  ...    stable    unstable      10         A\n",
            "63    mid    low  excellent   mid  ...    stable    unstable      10         S\n",
            "64   high    mid  excellent   mid  ...  unstable    unstable      10         A\n",
            "65    mid    mid       good  high  ...    stable      stable      10         S\n",
            "66    mid    low  excellent   mid  ...    stable      stable      10         A\n",
            "67    mid    mid  excellent   mid  ...    stable      stable      10         A\n",
            "68    mid    mid  excellent  high  ...    stable      stable      10         A\n",
            "69    mid    mid  excellent   low  ...    stable      stable      10         A\n",
            "71    low    low  excellent   mid  ...    stable      stable      10         A\n",
            "72    mid    mid  excellent   mid  ...    stable  mod-stable      10         S\n",
            "73    mid    mid  excellent  high  ...    stable      stable      10         A\n",
            "74    mid    low  excellent  high  ...    stable  mod-stable      10         A\n",
            "75    low    mid       good   mid  ...    stable    unstable      10         A\n",
            "76    mid    mid  excellent   mid  ...    stable  mod-stable      10         A\n",
            "77    mid    mid  excellent   mid  ...    stable    unstable      10         A\n",
            "78    mid    mid  excellent   mid  ...  unstable      stable      10         S\n",
            "79    mid    mid       good  high  ...    stable      stable      10         A\n",
            "80    mid    mid  excellent   mid  ...    stable      stable      15         A\n",
            "81    mid    mid  excellent   mid  ...    stable      stable      10         S\n",
            "82    mid    low       good   mid  ...    stable    unstable      10         I\n",
            "83   high    mid  excellent   mid  ...    stable    unstable       5         A\n",
            "84    mid    mid  excellent   mid  ...    stable    unstable      10         A\n",
            "85    mid    mid  excellent   mid  ...    stable      stable      10         A\n",
            "86    mid    mid  excellent   mid  ...    stable      stable      15         S\n",
            "87    mid    mid       good   mid  ...    stable      stable      15         A\n",
            "88    mid    mid  excellent   mid  ...    stable      stable      10         A\n",
            "89    mid    mid       good   mid  ...    stable      stable      15         S\n",
            "\n",
            "[87 rows x 9 columns]\n"
          ],
          "name": "stdout"
        }
      ]
    },
    {
      "cell_type": "markdown",
      "metadata": {
        "id": "lx74EqrvWn0H",
        "colab_type": "text"
      },
      "source": [
        "# **Plotting using Seaborn**"
      ]
    },
    {
      "cell_type": "markdown",
      "metadata": {
        "id": "1h_J1OnQWyaT",
        "colab_type": "text"
      },
      "source": [
        "### Plot 1 between L_CORE and COMFORT\n",
        "The plot displays a relation between the patient's internal temperature(L_CORE) and perceived comfort(COMFORT) at the time of discharge. \n",
        "According to the plot the maximum comfort is in the high temperature range, but with a long error bar. The mid temperature range has the smallest error bar and a high comfort too. Therefore, the mid temperature range is where the patient has maximum comfort."
      ]
    },
    {
      "cell_type": "code",
      "metadata": {
        "id": "v-PMeu0HDjjS",
        "colab_type": "code",
        "colab": {
          "base_uri": "https://localhost:8080/",
          "height": 284
        },
        "outputId": "ea515b12-c019-46da-f554-cd5c4738bfd4"
      },
      "source": [
        "plot1 = sns.barplot(x=\"L_CORE\", y=\"COMFORT\", data=newdata)"
      ],
      "execution_count": null,
      "outputs": [
        {
          "output_type": "display_data",
          "data": {
            "image/png": "[encoded data removed]",
            "text/plain": [
              "<Figure size 432x288 with 1 Axes>"
            ]
          },
          "metadata": {
            "tags": []
          }
        }
      ]
    },
    {
      "cell_type": "markdown",
      "metadata": {
        "id": "2FRfjODEXOyR",
        "colab_type": "text"
      },
      "source": [
        "### Plot 2 between L_SURF and COMFORT \n",
        "The plot displays a relation between the patient's surface temperature(L_SURF) and comfort(COMFORT) at the time of discharge. The error bars have an overlap, so the difference is not statistically significant, we must perform a statistical test to draw the conclusion."
      ]
    },
    {
      "cell_type": "code",
      "metadata": {
        "id": "BQVOGf9-RIIu",
        "colab_type": "code",
        "colab": {
          "base_uri": "https://localhost:8080/",
          "height": 284
        },
        "outputId": "63da4d5b-a1d1-4ecc-9c2f-7f09959d62b4"
      },
      "source": [
        "plot2 = sns.barplot(x=\"L_SURF\", y=\"COMFORT\", data=newdata)"
      ],
      "execution_count": null,
      "outputs": [
        {
          "output_type": "display_data",
          "data": {
            "image/png": "[encoded data removed]",
            "text/plain": [
              "<Figure size 432x288 with 1 Axes>"
            ]
          },
          "metadata": {
            "tags": []
          }
        }
      ]
    },
    {
      "cell_type": "markdown",
      "metadata": {
        "id": "dE3QCdxcXbYk",
        "colab_type": "text"
      },
      "source": [
        "### Plot 3 between L_O2 and COMFORT\n",
        "The plot displays a relation between the patient's oxygen saturation(L_O2) and comfort(COMFORT) at the time of discharge. The error bars have a small overlap, so the difference is probably not statistically significant."
      ]
    },
    {
      "cell_type": "code",
      "metadata": {
        "id": "1kpGTaUtRbNO",
        "colab_type": "code",
        "colab": {
          "base_uri": "https://localhost:8080/",
          "height": 284
        },
        "outputId": "2f0f6974-6586-4f8a-e0fc-2ab752d46aec"
      },
      "source": [
        "plot3 = sns.barplot(x=\"L_O2\", y=\"COMFORT\", data=newdata)"
      ],
      "execution_count": null,
      "outputs": [
        {
          "output_type": "display_data",
          "data": {
            "image/png": "[encoded data removed]",
            "text/plain": [
              "<Figure size 432x288 with 1 Axes>"
            ]
          },
          "metadata": {
            "tags": []
          }
        }
      ]
    },
    {
      "cell_type": "markdown",
      "metadata": {
        "id": "A7JekLLoXtKo",
        "colab_type": "text"
      },
      "source": [
        "### Plot 4 between L_BP and COMFORT\n",
        "The plot displays a relation between the patient's last measurement of blood pressure(L_BP) and comfort (COMFORT) at the time of discharge. The error bars of mid and high overlap, so, the difference is not statistically significant. Patients with low blood pressure had the lowest comfort level."
      ]
    },
    {
      "cell_type": "code",
      "metadata": {
        "id": "gzlB7EEgRnfv",
        "colab_type": "code",
        "colab": {
          "base_uri": "https://localhost:8080/",
          "height": 284
        },
        "outputId": "4c968e6c-2194-4e12-83ad-145e713fc10b"
      },
      "source": [
        "plot4 = sns.barplot(x=\"L_BP\", y=\"COMFORT\", data=newdata)"
      ],
      "execution_count": null,
      "outputs": [
        {
          "output_type": "display_data",
          "data": {
            "image/png": "[encoded data removed]",
            "text/plain": [
              "<Figure size 432x288 with 1 Axes>"
            ]
          },
          "metadata": {
            "tags": []
          }
        }
      ]
    },
    {
      "cell_type": "markdown",
      "metadata": {
        "id": "hSg098ZyX46b",
        "colab_type": "text"
      },
      "source": [
        "### Plot 5 between SURF_STBL and COMFORT\n",
        "The plot displays a relation between the patient's stability of surface temperature(SURF_STBL) and comfort(COMFORT) at the time of discharge. Both the stable and unstable error bars overlap so we cannot draw a conclusion without a statistical test. "
      ]
    },
    {
      "cell_type": "code",
      "metadata": {
        "id": "kUy_pF-oR-G3",
        "colab_type": "code",
        "colab": {
          "base_uri": "https://localhost:8080/",
          "height": 284
        },
        "outputId": "26af3ae8-eb98-4178-b237-95d08f056e9d"
      },
      "source": [
        "plot5 = sns.barplot(x=\"SURF_STBL\", y=\"COMFORT\", data=newdata)"
      ],
      "execution_count": null,
      "outputs": [
        {
          "output_type": "display_data",
          "data": {
            "image/png": "[encoded data removed]",
            "text/plain": [
              "<Figure size 432x288 with 1 Axes>"
            ]
          },
          "metadata": {
            "tags": []
          }
        }
      ]
    },
    {
      "cell_type": "markdown",
      "metadata": {
        "id": "-P43JEukYF2h",
        "colab_type": "text"
      },
      "source": [
        "### Plot 6 between CORE_STBL and COMFORT\n",
        "The plot displays a relation between the stability of patient's core temperature(CORE_STBL) and comfort at the time of discharge. There is a very less overlap between stable and unstable error bars, the difference is probably not statistically significant. "
      ]
    },
    {
      "cell_type": "code",
      "metadata": {
        "id": "CF2uvZGRSj9C",
        "colab_type": "code",
        "colab": {
          "base_uri": "https://localhost:8080/",
          "height": 284
        },
        "outputId": "f3077560-a601-4d42-ef24-9327f712ed90"
      },
      "source": [
        "plot6 = sns.barplot(x=\"CORE_STBL\", y=\"COMFORT\", data=newdata)"
      ],
      "execution_count": null,
      "outputs": [
        {
          "output_type": "display_data",
          "data": {
            "image/png": "[encoded data removed]",
            "text/plain": [
              "<Figure size 432x288 with 1 Axes>"
            ]
          },
          "metadata": {
            "tags": []
          }
        }
      ]
    },
    {
      "cell_type": "markdown",
      "metadata": {
        "id": "Np3mLO4BYPho",
        "colab_type": "text"
      },
      "source": [
        "### Plot 7 between BP_STBL and COMFORT\n",
        "The plot displays a relation between the stability of patient's surface blood pressure and comfort at the time of discharge. The error bars between stable and unstable overlap so there is no statistical difference between the two, a statistical test needs to performed to draw the conclusion."
      ]
    },
    {
      "cell_type": "code",
      "metadata": {
        "id": "PZrKQVj4SwlH",
        "colab_type": "code",
        "colab": {
          "base_uri": "https://localhost:8080/",
          "height": 284
        },
        "outputId": "2235acca-fc38-4c76-bc80-74e7b0ba9aed"
      },
      "source": [
        "plot7 = sns.barplot(x=\"BP_STBL\", y=\"COMFORT\", data=newdata)"
      ],
      "execution_count": null,
      "outputs": [
        {
          "output_type": "display_data",
          "data": {
            "image/png": "[encoded data removed]",
            "text/plain": [
              "<Figure size 432x288 with 1 Axes>"
            ]
          },
          "metadata": {
            "tags": []
          }
        }
      ]
    },
    {
      "cell_type": "markdown",
      "metadata": {
        "id": "UZDGAB5zYZtE",
        "colab_type": "text"
      },
      "source": [
        "### Plot 8 between ADM_DECS and COMFORT\n",
        "The plot displays a relation between the discharge decision for patient and comfort at the time of discharge. The lowest comfort level of the three bars is in I which denotes that the patient was sent to ICU. The error graph between, sent home(S) and admitted to general floor(A) overlap which indicates that there is no statistical significant difference and we will have to perform a statistical test to draw a conclusion."
      ]
    },
    {
      "cell_type": "code",
      "metadata": {
        "id": "Azvaxg4MS66z",
        "colab_type": "code",
        "colab": {
          "base_uri": "https://localhost:8080/",
          "height": 284
        },
        "outputId": "71e30447-e1ad-4a7b-f7e9-38eabd346b66"
      },
      "source": [
        "plot8 = sns.barplot(x=\"ADM_DECS\", y=\"COMFORT\", data=newdata)"
      ],
      "execution_count": null,
      "outputs": [
        {
          "output_type": "display_data",
          "data": {
            "image/png": "[encoded data removed]",
            "text/plain": [
              "<Figure size 432x288 with 1 Axes>"
            ]
          },
          "metadata": {
            "tags": []
          }
        }
      ]
    },
    {
      "cell_type": "markdown",
      "metadata": {
        "id": "c2mAJP-xaa1P",
        "colab_type": "text"
      },
      "source": [
        "# **Encoding**"
      ]
    },
    {
      "cell_type": "markdown",
      "metadata": {
        "id": "lrKo3uz1gyeN",
        "colab_type": "text"
      },
      "source": [
        "Converting categorical data to numeric"
      ]
    },
    {
      "cell_type": "code",
      "metadata": {
        "id": "5Emn708OdmCX",
        "colab_type": "code",
        "colab": {
          "base_uri": "https://localhost:8080/",
          "height": 1000
        },
        "outputId": "65375655-76b6-49fb-ddf6-e9300b324c60"
      },
      "source": [
        "from sklearn.preprocessing import LabelEncoder\n",
        "\n",
        "# labeling everything except COMFORT\n",
        "names2 = ['L_CORE', 'L_SURF', 'L_BP', 'SURF_STBL','CORE_STBL','BP_STBL','ADM_DECS']\n",
        "\n",
        "for item in names2:\n",
        "  class_l1 = LabelEncoder()\n",
        "  le = class_l1.fit_transform(data[item].values)\n",
        "  print(le)\n",
        "  print(class_l1.inverse_transform(le))"
      ],
      "execution_count": null,
      "outputs": [
        {
          "output_type": "stream",
          "text": [
            "[2 2 0 2 2 0 2 0 2 2 2 2 0 2 2 0 1 2 2 2 1 1 2 2 0 1 0 1 2 2 2 1 2 2 1 2 1\n",
            " 1 1 2 1 1 0 2 1 1 1 2 0 2 2 1 2 2 0 2 0 2 1 2 2 2 2 2 0 2 2 2 2 2 2 1 2 2\n",
            " 2 1 2 2 2 2 2 2 2 0 2 2 2 2 2 2]\n",
            "['mid' 'mid' 'high' 'mid' 'mid' 'high' 'mid' 'high' 'mid' 'mid' 'mid'\n",
            " 'mid' 'high' 'mid' 'mid' 'high' 'low' 'mid' 'mid' 'mid' 'low' 'low' 'mid'\n",
            " 'mid' 'high' 'low' 'high' 'low' 'mid' 'mid' 'mid' 'low' 'mid' 'mid' 'low'\n",
            " 'mid' 'low' 'low' 'low' 'mid' 'low' 'low' 'high' 'mid' 'low' 'low' 'low'\n",
            " 'mid' 'high' 'mid' 'mid' 'low' 'mid' 'mid' 'high' 'mid' 'high' 'mid'\n",
            " 'low' 'mid' 'mid' 'mid' 'mid' 'mid' 'high' 'mid' 'mid' 'mid' 'mid' 'mid'\n",
            " 'mid' 'low' 'mid' 'mid' 'mid' 'low' 'mid' 'mid' 'mid' 'mid' 'mid' 'mid'\n",
            " 'mid' 'high' 'mid' 'mid' 'mid' 'mid' 'mid' 'mid']\n",
            "[1 0 1 1 2 1 1 2 0 1 2 1 0 0 1 0 0 1 0 2 0 2 2 2 0 2 2 2 2 2 2 1 2 1 2 2 2\n",
            " 1 1 2 1 2 0 2 1 2 2 2 0 0 0 0 1 2 0 2 2 1 1 0 0 1 2 1 2 2 1 2 2 2 1 1 2 2\n",
            " 1 2 2 2 2 2 2 2 1 2 2 2 2 2 2 2]\n",
            "['low' 'high' 'low' 'low' 'mid' 'low' 'low' 'mid' 'high' 'low' 'mid' 'low'\n",
            " 'high' 'high' 'low' 'high' 'high' 'low' 'high' 'mid' 'high' 'mid' 'mid'\n",
            " 'mid' 'high' 'mid' 'mid' 'mid' 'mid' 'mid' 'mid' 'low' 'mid' 'low' 'mid'\n",
            " 'mid' 'mid' 'low' 'low' 'mid' 'low' 'mid' 'high' 'mid' 'low' 'mid' 'mid'\n",
            " 'mid' 'high' 'high' 'high' 'high' 'low' 'mid' 'high' 'mid' 'mid' 'low'\n",
            " 'low' 'high' 'high' 'low' 'mid' 'low' 'mid' 'mid' 'low' 'mid' 'mid' 'mid'\n",
            " 'low' 'low' 'mid' 'mid' 'low' 'mid' 'mid' 'mid' 'mid' 'mid' 'mid' 'mid'\n",
            " 'low' 'mid' 'mid' 'mid' 'mid' 'mid' 'mid' 'mid']\n",
            "[2 0 0 0 0 2 0 2 2 2 2 0 0 2 0 0 0 0 2 2 2 0 2 2 2 2 1 0 2 2 0 2 0 2 0 2 2\n",
            " 2 2 0 2 2 0 2 2 2 0 2 0 1 2 2 0 2 2 2 0 0 0 2 2 0 2 2 2 0 2 2 0 1 2 2 2 0\n",
            " 0 2 2 2 2 0 2 2 2 2 2 2 2 2 2 2]\n",
            "['mid' 'high' 'high' 'high' 'high' 'mid' 'high' 'mid' 'mid' 'mid' 'mid'\n",
            " 'high' 'high' 'mid' 'high' 'high' 'high' 'high' 'mid' 'mid' 'mid' 'high'\n",
            " 'mid' 'mid' 'mid' 'mid' 'low' 'high' 'mid' 'mid' 'high' 'mid' 'high'\n",
            " 'mid' 'high' 'mid' 'mid' 'mid' 'mid' 'high' 'mid' 'mid' 'high' 'mid'\n",
            " 'mid' 'mid' 'high' 'mid' 'high' 'low' 'mid' 'mid' 'high' 'mid' 'mid'\n",
            " 'mid' 'high' 'high' 'high' 'mid' 'mid' 'high' 'mid' 'mid' 'mid' 'high'\n",
            " 'mid' 'mid' 'high' 'low' 'mid' 'mid' 'mid' 'high' 'high' 'mid' 'mid'\n",
            " 'mid' 'mid' 'high' 'mid' 'mid' 'mid' 'mid' 'mid' 'mid' 'mid' 'mid' 'mid'\n",
            " 'mid']\n",
            "[0 0 0 0 0 0 0 1 0 1 0 0 1 1 1 1 1 1 1 0 1 1 1 1 0 1 0 0 0 1 1 1 1 0 0 0 0\n",
            " 1 0 1 1 0 1 0 0 1 1 1 0 1 1 1 1 1 1 1 0 1 0 0 1 0 0 0 1 0 1 1 0 0 1 0 0 0\n",
            " 0 0 0 0 1 0 0 0 0 1 0 1 1 1 1 1]\n",
            "['stable' 'stable' 'stable' 'stable' 'stable' 'stable' 'stable' 'unstable'\n",
            " 'stable' 'unstable' 'stable' 'stable' 'unstable' 'unstable' 'unstable'\n",
            " 'unstable' 'unstable' 'unstable' 'unstable' 'stable' 'unstable'\n",
            " 'unstable' 'unstable' 'unstable' 'stable' 'unstable' 'stable' 'stable'\n",
            " 'stable' 'unstable' 'unstable' 'unstable' 'unstable' 'stable' 'stable'\n",
            " 'stable' 'stable' 'unstable' 'stable' 'unstable' 'unstable' 'stable'\n",
            " 'unstable' 'stable' 'stable' 'unstable' 'unstable' 'unstable' 'stable'\n",
            " 'unstable' 'unstable' 'unstable' 'unstable' 'unstable' 'unstable'\n",
            " 'unstable' 'stable' 'unstable' 'stable' 'stable' 'unstable' 'stable'\n",
            " 'stable' 'stable' 'unstable' 'stable' 'unstable' 'unstable' 'stable'\n",
            " 'stable' 'unstable' 'stable' 'stable' 'stable' 'stable' 'stable' 'stable'\n",
            " 'stable' 'unstable' 'stable' 'stable' 'stable' 'stable' 'unstable'\n",
            " 'stable' 'unstable' 'unstable' 'unstable' 'unstable' 'unstable']\n",
            "[1 1 1 2 1 1 1 2 1 1 1 1 1 1 2 1 1 1 1 1 1 1 1 1 1 1 1 1 1 1 1 1 1 1 1 1 1\n",
            " 1 1 1 1 1 1 1 1 1 1 1 1 1 0 1 1 1 1 1 1 1 1 1 1 1 1 1 2 1 1 1 1 1 2 1 1 1\n",
            " 1 1 1 1 2 1 1 1 1 1 1 1 1 1 1 1]\n",
            "['stable' 'stable' 'stable' 'unstable' 'stable' 'stable' 'stable'\n",
            " 'unstable' 'stable' 'stable' 'stable' 'stable' 'stable' 'stable'\n",
            " 'unstable' 'stable' 'stable' 'stable' 'stable' 'stable' 'stable' 'stable'\n",
            " 'stable' 'stable' 'stable' 'stable' 'stable' 'stable' 'stable' 'stable'\n",
            " 'stable' 'stable' 'stable' 'stable' 'stable' 'stable' 'stable' 'stable'\n",
            " 'stable' 'stable' 'stable' 'stable' 'stable' 'stable' 'stable' 'stable'\n",
            " 'stable' 'stable' 'stable' 'stable' 'mod-stable' 'stable' 'stable'\n",
            " 'stable' 'stable' 'stable' 'stable' 'stable' 'stable' 'stable' 'stable'\n",
            " 'stable' 'stable' 'stable' 'unstable' 'stable' 'stable' 'stable' 'stable'\n",
            " 'stable' 'unstable' 'stable' 'stable' 'stable' 'stable' 'stable' 'stable'\n",
            " 'stable' 'unstable' 'stable' 'stable' 'stable' 'stable' 'stable' 'stable'\n",
            " 'stable' 'stable' 'stable' 'stable' 'stable']\n",
            "[1 1 0 0 1 2 0 1 1 0 1 0 2 0 1 2 0 1 2 1 1 2 2 1 0 1 0 0 2 2 1 2 0 1 0 1 1\n",
            " 2 1 0 1 1 1 1 1 1 1 1 2 1 0 1 2 0 0 1 2 0 1 0 2 1 2 2 2 1 1 1 1 1 2 1 0 1\n",
            " 0 2 0 2 1 1 1 1 2 2 2 1 1 1 1 1]\n",
            "['stable' 'stable' 'mod-stable' 'mod-stable' 'stable' 'unstable'\n",
            " 'mod-stable' 'stable' 'stable' 'mod-stable' 'stable' 'mod-stable'\n",
            " 'unstable' 'mod-stable' 'stable' 'unstable' 'mod-stable' 'stable'\n",
            " 'unstable' 'stable' 'stable' 'unstable' 'unstable' 'stable' 'mod-stable'\n",
            " 'stable' 'mod-stable' 'mod-stable' 'unstable' 'unstable' 'stable'\n",
            " 'unstable' 'mod-stable' 'stable' 'mod-stable' 'stable' 'stable'\n",
            " 'unstable' 'stable' 'mod-stable' 'stable' 'stable' 'stable' 'stable'\n",
            " 'stable' 'stable' 'stable' 'stable' 'unstable' 'stable' 'mod-stable'\n",
            " 'stable' 'unstable' 'mod-stable' 'mod-stable' 'stable' 'unstable'\n",
            " 'mod-stable' 'stable' 'mod-stable' 'unstable' 'stable' 'unstable'\n",
            " 'unstable' 'unstable' 'stable' 'stable' 'stable' 'stable' 'stable'\n",
            " 'unstable' 'stable' 'mod-stable' 'stable' 'mod-stable' 'unstable'\n",
            " 'mod-stable' 'unstable' 'stable' 'stable' 'stable' 'stable' 'unstable'\n",
            " 'unstable' 'unstable' 'stable' 'stable' 'stable' 'stable' 'stable']\n",
            "[0 2 0 0 0 2 2 2 2 2 0 0 0 0 2 0 0 0 0 0 0 2 0 0 0 0 0 0 0 2 0 0 0 0 0 0 2\n",
            " 2 2 0 0 2 2 2 0 2 1 0 0 0 0 0 0 2 0 0 0 0 0 0 0 0 0 2 0 2 0 0 0 0 0 0 2 0\n",
            " 0 0 0 0 2 0 0 2 1 0 0 0 2 0 0 2]\n",
            "['A' 'S' 'A' 'A' 'A' 'S' 'S' 'S' 'S' 'S' 'A' 'A' 'A' 'A' 'S' 'A' 'A' 'A'\n",
            " 'A' 'A' 'A' 'S' 'A' 'A' 'A' 'A' 'A' 'A' 'A' 'S' 'A' 'A' 'A' 'A' 'A' 'A'\n",
            " 'S' 'S' 'S' 'A' 'A' 'S' 'S' 'S' 'A' 'S' 'I' 'A' 'A' 'A' 'A' 'A' 'A' 'S'\n",
            " 'A' 'A' 'A' 'A' 'A' 'A' 'A' 'A' 'A' 'S' 'A' 'S' 'A' 'A' 'A' 'A' 'A' 'A'\n",
            " 'S' 'A' 'A' 'A' 'A' 'A' 'S' 'A' 'A' 'S' 'I' 'A' 'A' 'A' 'S' 'A' 'A' 'S']\n"
          ],
          "name": "stdout"
        }
      ]
    },
    {
      "cell_type": "markdown",
      "metadata": {
        "id": "meeW6FDhg9HF",
        "colab_type": "text"
      },
      "source": [
        "# Performing one-hot encoding\n",
        "Representation of categorical data as binary vectors "
      ]
    },
    {
      "cell_type": "code",
      "metadata": {
        "id": "BYl-0GSlf9zi",
        "colab_type": "code",
        "colab": {
          "base_uri": "https://localhost:8080/",
          "height": 136
        },
        "outputId": "f4f428b8-0871-41aa-eeca-2d4ae21bc5b7"
      },
      "source": [
        "from sklearn.preprocessing import StandardScaler, OneHotEncoder\n",
        "from sklearn.compose import ColumnTransformer, make_column_transformer\n",
        "\n",
        "features = data[['L_CORE', 'L_SURF', 'L_BP', 'SURF_STBL','CORE_STBL','BP_STBL','ADM_DECS']]\n",
        "temp = ['L_CORE', 'L_SURF', 'L_BP', 'SURF_STBL','CORE_STBL','BP_STBL','ADM_DECS']\n",
        "\n",
        "preprocess = make_column_transformer(\n",
        "    (OneHotEncoder(), [x for x in temp]),\n",
        "\n",
        "    remainder=\"passthrough\")\n",
        "preprocess.fit_transform(features)"
      ],
      "execution_count": null,
      "outputs": [
        {
          "output_type": "execute_result",
          "data": {
            "text/plain": [
              "array([[0., 0., 1., ..., 1., 0., 0.],\n",
              "       [0., 0., 1., ..., 0., 0., 1.],\n",
              "       [1., 0., 0., ..., 1., 0., 0.],\n",
              "       ...,\n",
              "       [0., 0., 1., ..., 1., 0., 0.],\n",
              "       [0., 0., 1., ..., 1., 0., 0.],\n",
              "       [0., 0., 1., ..., 0., 0., 1.]])"
            ]
          },
          "metadata": {
            "tags": []
          },
          "execution_count": 62
        }
      ]
    }
  ]
}